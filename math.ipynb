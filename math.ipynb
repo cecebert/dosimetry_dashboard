{
 "cells": [
  {
   "cell_type": "code",
   "execution_count": 1,
   "id": "41ab5c89-1a77-4b05-b052-138f86689423",
   "metadata": {
    "tags": []
   },
   "outputs": [],
   "source": [
    "import numpy as np\n",
    "import pandas as pd\n",
    "from scipy.integrate import odeint"
   ]
  },
  {
   "cell_type": "code",
   "execution_count": 2,
   "id": "26bf3020-58c2-4590-b07b-a6fa77fa16cb",
   "metadata": {
    "tags": []
   },
   "outputs": [],
   "source": [
    "from sympy import *\n",
    "import sympy"
   ]
  },
  {
   "cell_type": "code",
   "execution_count": 3,
   "id": "dc49e0fc-79f0-44d7-8d31-d9ded4c91642",
   "metadata": {
    "tags": []
   },
   "outputs": [],
   "source": [
    "a, b, c, t, k1, k2, k_dec, t_1, t_2, a0, b0= symbols('A, B, C, t, k_1, k_2, k_dec t_1 t_2, a0, b0', real=True)\n",
    "\n",
    "a=Function('A')\n",
    "b=Function('B')\n",
    "c=Function('C')\n",
    "\n",
    "\n",
    "eq1=Eq(diff(a(t), t), -k1*a(t)-k_dec*a(t))\n",
    "eq2=Eq(diff(b(t), t), k1*a(t)-k2*b(t)-k_dec*b(t))\n",
    "eq3=Eq(diff(c(t), t), k2*b(t)-k_dec*c(t))"
   ]
  },
  {
   "cell_type": "code",
   "execution_count": 4,
   "id": "3c64c78b-d355-4d79-91a2-91f1d15c319a",
   "metadata": {
    "tags": []
   },
   "outputs": [],
   "source": [
    "sols=sympy.solvers.ode.systems.dsolve_system([eq1,eq2,eq3], ics={a(0):a0, b(0):0, c(0):0})[0]"
   ]
  },
  {
   "cell_type": "code",
   "execution_count": 5,
   "id": "f93a9572-96ef-46fc-bd78-5dd387ae9ba4",
   "metadata": {},
   "outputs": [
    {
     "data": {
      "text/latex": [
       "$\\displaystyle B{\\left(t \\right)} = \\frac{a_{0} k_{1} \\left(e^{t \\left(k_{1} + k_{dec}\\right)} - e^{t \\left(k_{2} + k_{dec}\\right)}\\right) e^{- t \\left(k_{1} + k_{2} + 2 k_{dec}\\right)}}{k_{1} - k_{2}}$"
      ],
      "text/plain": [
       "Eq(B(t), a0*k_1*(exp(t*(k_1 + k_dec)) - exp(t*(k_2 + k_dec)))*exp(-t*(k_1 + k_2 + 2*k_dec))/(k_1 - k_2))"
      ]
     },
     "execution_count": 5,
     "metadata": {},
     "output_type": "execute_result"
    }
   ],
   "source": [
    "sols[1].simplify()"
   ]
  },
  {
   "cell_type": "code",
   "execution_count": 6,
   "id": "4026957e-d3ac-4d7c-8805-7e96e7ebb283",
   "metadata": {
    "tags": []
   },
   "outputs": [
    {
     "data": {
      "text/latex": [
       "$\\displaystyle \\frac{\\log{\\left(\\frac{k_{1} + k_{dec}}{k_{2} + k_{dec}} \\right)}}{k_{1} - k_{2}}$"
      ],
      "text/plain": [
       "log((k_1 + k_dec)/(k_2 + k_dec))/(k_1 - k_2)"
      ]
     },
     "execution_count": 6,
     "metadata": {},
     "output_type": "execute_result"
    }
   ],
   "source": [
    "time_max=solve(Eq(diff(sols[1].rhs, t), 0), t)[0]\n",
    "time_max"
   ]
  },
  {
   "cell_type": "code",
   "execution_count": 7,
   "id": "039118ef-0fdb-4e79-bc9c-b5714c28c3f6",
   "metadata": {},
   "outputs": [
    {
     "data": {
      "text/latex": [
       "$\\displaystyle \\frac{\\left(k_{1} - k_{2}\\right) \\left(\\frac{a_{0} k_{1} e^{- t \\left(k_{2} + k_{dec}\\right)}}{k_{1} - k_{2}} - \\frac{a_{0} k_{1} e^{- t \\left(k_{1} + k_{dec}\\right)}}{k_{1} - k_{2}}\\right) e^{\\frac{\\left(k_{1} + k_{2} + 2 k_{dec}\\right) \\log{\\left(\\frac{k_{1} + k_{dec}}{k_{2} + k_{dec}} \\right)}}{k_{1} - k_{2}}}}{a_{0} k_{1} \\left(e^{\\frac{\\left(k_{1} + k_{dec}\\right) \\log{\\left(\\frac{k_{1} + k_{dec}}{k_{2} + k_{dec}} \\right)}}{k_{1} - k_{2}}} - e^{\\frac{\\left(k_{2} + k_{dec}\\right) \\log{\\left(\\frac{k_{1} + k_{dec}}{k_{2} + k_{dec}} \\right)}}{k_{1} - k_{2}}}\\right)}$"
      ],
      "text/plain": [
       "(k_1 - k_2)*(a0*k_1*exp(-t*(k_2 + k_dec))/(k_1 - k_2) - a0*k_1*exp(-t*(k_1 + k_dec))/(k_1 - k_2))*exp((k_1 + k_2 + 2*k_dec)*log((k_1 + k_dec)/(k_2 + k_dec))/(k_1 - k_2))/(a0*k_1*(exp((k_1 + k_dec)*log((k_1 + k_dec)/(k_2 + k_dec))/(k_1 - k_2)) - exp((k_2 + k_dec)*log((k_1 + k_dec)/(k_2 + k_dec))/(k_1 - k_2))))"
      ]
     },
     "execution_count": 7,
     "metadata": {},
     "output_type": "execute_result"
    }
   ],
   "source": [
    "sols[1].rhs/(sols[1].subs(t, time_max).rhs).simplify()"
   ]
  },
  {
   "cell_type": "code",
   "execution_count": 8,
   "id": "5cb7e303-1409-4e03-8652-644debd549a9",
   "metadata": {
    "tags": []
   },
   "outputs": [],
   "source": [
    "sols[1].subs(k1,1).subs(k2,2)\n",
    "\n",
    "ka1=0.5\n",
    "ka2=0.01000\n",
    "decay=0.001"
   ]
  },
  {
   "cell_type": "code",
   "execution_count": 9,
   "id": "18c7921a-bc41-4a4a-b720-0f6b11aee552",
   "metadata": {
    "tags": []
   },
   "outputs": [
    {
     "name": "stderr",
     "output_type": "stream",
     "text": [
      "/Users/cesare/anaconda3/lib/python3.11/site-packages/sympy/plotting/experimental_lambdify.py:188: UserWarning: The evaluation of the expression is problematic. We are trying a failback method that may still work. Please report this as a bug.\n",
      "  return self.__call__(args)\n"
     ]
    },
    {
     "ename": "TypeError",
     "evalue": "Cannot convert expression to float",
     "output_type": "error",
     "traceback": [
      "\u001b[0;31m---------------------------------------------------------------------------\u001b[0m",
      "\u001b[0;31mTypeError\u001b[0m                                 Traceback (most recent call last)",
      "File \u001b[0;32m~/anaconda3/lib/python3.11/site-packages/sympy/plotting/experimental_lambdify.py:176\u001b[0m, in \u001b[0;36mlambdify.__call__\u001b[0;34m(self, args)\u001b[0m\n\u001b[1;32m    174\u001b[0m \u001b[38;5;28;01mtry\u001b[39;00m:\n\u001b[1;32m    175\u001b[0m     \u001b[38;5;66;03m#The result can be sympy.Float. Hence wrap it with complex type.\u001b[39;00m\n\u001b[0;32m--> 176\u001b[0m     result \u001b[38;5;241m=\u001b[39m \u001b[38;5;28mcomplex\u001b[39m(\u001b[38;5;28mself\u001b[39m\u001b[38;5;241m.\u001b[39mlambda_func(args))\n\u001b[1;32m    177\u001b[0m     \u001b[38;5;28;01mif\u001b[39;00m \u001b[38;5;28mabs\u001b[39m(result\u001b[38;5;241m.\u001b[39mimag) \u001b[38;5;241m>\u001b[39m \u001b[38;5;241m1e-7\u001b[39m \u001b[38;5;241m*\u001b[39m \u001b[38;5;28mabs\u001b[39m(result):\n",
      "File \u001b[0;32m~/anaconda3/lib/python3.11/site-packages/sympy/core/expr.py:356\u001b[0m, in \u001b[0;36mExpr.__complex__\u001b[0;34m(self)\u001b[0m\n\u001b[1;32m    355\u001b[0m re, im \u001b[38;5;241m=\u001b[39m result\u001b[38;5;241m.\u001b[39mas_real_imag()\n\u001b[0;32m--> 356\u001b[0m \u001b[38;5;28;01mreturn\u001b[39;00m \u001b[38;5;28mcomplex\u001b[39m(\u001b[38;5;28mfloat\u001b[39m(re), \u001b[38;5;28mfloat\u001b[39m(im))\n",
      "File \u001b[0;32m~/anaconda3/lib/python3.11/site-packages/sympy/core/expr.py:351\u001b[0m, in \u001b[0;36mExpr.__float__\u001b[0;34m(self)\u001b[0m\n\u001b[1;32m    350\u001b[0m     \u001b[38;5;28;01mraise\u001b[39;00m \u001b[38;5;167;01mTypeError\u001b[39;00m(\u001b[38;5;124m\"\u001b[39m\u001b[38;5;124mCannot convert complex to float\u001b[39m\u001b[38;5;124m\"\u001b[39m)\n\u001b[0;32m--> 351\u001b[0m \u001b[38;5;28;01mraise\u001b[39;00m \u001b[38;5;167;01mTypeError\u001b[39;00m(\u001b[38;5;124m\"\u001b[39m\u001b[38;5;124mCannot convert expression to float\u001b[39m\u001b[38;5;124m\"\u001b[39m)\n",
      "\u001b[0;31mTypeError\u001b[0m: Cannot convert expression to float",
      "\nDuring handling of the above exception, another exception occurred:\n",
      "\u001b[0;31mTypeError\u001b[0m                                 Traceback (most recent call last)",
      "File \u001b[0;32m~/anaconda3/lib/python3.11/site-packages/sympy/plotting/experimental_lambdify.py:176\u001b[0m, in \u001b[0;36mlambdify.__call__\u001b[0;34m(self, args)\u001b[0m\n\u001b[1;32m    174\u001b[0m \u001b[38;5;28;01mtry\u001b[39;00m:\n\u001b[1;32m    175\u001b[0m     \u001b[38;5;66;03m#The result can be sympy.Float. Hence wrap it with complex type.\u001b[39;00m\n\u001b[0;32m--> 176\u001b[0m     result \u001b[38;5;241m=\u001b[39m \u001b[38;5;28mcomplex\u001b[39m(\u001b[38;5;28mself\u001b[39m\u001b[38;5;241m.\u001b[39mlambda_func(args))\n\u001b[1;32m    177\u001b[0m     \u001b[38;5;28;01mif\u001b[39;00m \u001b[38;5;28mabs\u001b[39m(result\u001b[38;5;241m.\u001b[39mimag) \u001b[38;5;241m>\u001b[39m \u001b[38;5;241m1e-7\u001b[39m \u001b[38;5;241m*\u001b[39m \u001b[38;5;28mabs\u001b[39m(result):\n",
      "File \u001b[0;32m~/anaconda3/lib/python3.11/site-packages/sympy/core/expr.py:356\u001b[0m, in \u001b[0;36mExpr.__complex__\u001b[0;34m(self)\u001b[0m\n\u001b[1;32m    355\u001b[0m re, im \u001b[38;5;241m=\u001b[39m result\u001b[38;5;241m.\u001b[39mas_real_imag()\n\u001b[0;32m--> 356\u001b[0m \u001b[38;5;28;01mreturn\u001b[39;00m \u001b[38;5;28mcomplex\u001b[39m(\u001b[38;5;28mfloat\u001b[39m(re), \u001b[38;5;28mfloat\u001b[39m(im))\n",
      "File \u001b[0;32m~/anaconda3/lib/python3.11/site-packages/sympy/core/expr.py:351\u001b[0m, in \u001b[0;36mExpr.__float__\u001b[0;34m(self)\u001b[0m\n\u001b[1;32m    350\u001b[0m     \u001b[38;5;28;01mraise\u001b[39;00m \u001b[38;5;167;01mTypeError\u001b[39;00m(\u001b[38;5;124m\"\u001b[39m\u001b[38;5;124mCannot convert complex to float\u001b[39m\u001b[38;5;124m\"\u001b[39m)\n\u001b[0;32m--> 351\u001b[0m \u001b[38;5;28;01mraise\u001b[39;00m \u001b[38;5;167;01mTypeError\u001b[39;00m(\u001b[38;5;124m\"\u001b[39m\u001b[38;5;124mCannot convert expression to float\u001b[39m\u001b[38;5;124m\"\u001b[39m)\n",
      "\u001b[0;31mTypeError\u001b[0m: Cannot convert expression to float",
      "\nDuring handling of the above exception, another exception occurred:\n",
      "\u001b[0;31mTypeError\u001b[0m                                 Traceback (most recent call last)",
      "Cell \u001b[0;32mIn[9], line 1\u001b[0m\n\u001b[0;32m----> 1\u001b[0m plot((sols[\u001b[38;5;241m1\u001b[39m]\u001b[38;5;241m.\u001b[39mrhs\u001b[38;5;241m.\u001b[39msubs(k1,ka1)\u001b[38;5;241m.\u001b[39msubs(k2,ka2)\u001b[38;5;241m.\u001b[39msubs(k_dec,decay), (t,\u001b[38;5;241m0\u001b[39m,\u001b[38;5;241m100\u001b[39m)) ,(sols[\u001b[38;5;241m0\u001b[39m]\u001b[38;5;241m.\u001b[39mrhs\u001b[38;5;241m.\u001b[39msubs(k1,ka1)\u001b[38;5;241m.\u001b[39msubs(k2,ka2)\u001b[38;5;241m.\u001b[39msubs(k_dec,decay), (t,\u001b[38;5;241m0\u001b[39m,\u001b[38;5;241m100\u001b[39m)), (sols[\u001b[38;5;241m2\u001b[39m]\u001b[38;5;241m.\u001b[39mrhs\u001b[38;5;241m.\u001b[39msubs(k1,ka1)\u001b[38;5;241m.\u001b[39msubs(k2,ka2)\u001b[38;5;241m.\u001b[39msubs(k_dec,decay), (t,\u001b[38;5;241m0\u001b[39m,\u001b[38;5;241m100\u001b[39m)) )\n",
      "File \u001b[0;32m~/anaconda3/lib/python3.11/site-packages/sympy/plotting/plot.py:1873\u001b[0m, in \u001b[0;36mplot\u001b[0;34m(show, *args, **kwargs)\u001b[0m\n\u001b[1;32m   1871\u001b[0m plots \u001b[38;5;241m=\u001b[39m Plot(\u001b[38;5;241m*\u001b[39mseries, \u001b[38;5;241m*\u001b[39m\u001b[38;5;241m*\u001b[39mkwargs)\n\u001b[1;32m   1872\u001b[0m \u001b[38;5;28;01mif\u001b[39;00m show:\n\u001b[0;32m-> 1873\u001b[0m     plots\u001b[38;5;241m.\u001b[39mshow()\n\u001b[1;32m   1874\u001b[0m \u001b[38;5;28;01mreturn\u001b[39;00m plots\n",
      "File \u001b[0;32m~/anaconda3/lib/python3.11/site-packages/sympy/plotting/plot.py:251\u001b[0m, in \u001b[0;36mPlot.show\u001b[0;34m(self)\u001b[0m\n\u001b[1;32m    249\u001b[0m     \u001b[38;5;28mself\u001b[39m\u001b[38;5;241m.\u001b[39m_backend\u001b[38;5;241m.\u001b[39mclose()\n\u001b[1;32m    250\u001b[0m \u001b[38;5;28mself\u001b[39m\u001b[38;5;241m.\u001b[39m_backend \u001b[38;5;241m=\u001b[39m \u001b[38;5;28mself\u001b[39m\u001b[38;5;241m.\u001b[39mbackend(\u001b[38;5;28mself\u001b[39m)\n\u001b[0;32m--> 251\u001b[0m \u001b[38;5;28mself\u001b[39m\u001b[38;5;241m.\u001b[39m_backend\u001b[38;5;241m.\u001b[39mshow()\n",
      "File \u001b[0;32m~/anaconda3/lib/python3.11/site-packages/sympy/plotting/plot.py:1549\u001b[0m, in \u001b[0;36mMatplotlibBackend.show\u001b[0;34m(self)\u001b[0m\n\u001b[1;32m   1548\u001b[0m \u001b[38;5;28;01mdef\u001b[39;00m \u001b[38;5;21mshow\u001b[39m(\u001b[38;5;28mself\u001b[39m):\n\u001b[0;32m-> 1549\u001b[0m     \u001b[38;5;28mself\u001b[39m\u001b[38;5;241m.\u001b[39mprocess_series()\n\u001b[1;32m   1550\u001b[0m     \u001b[38;5;66;03m#TODO after fixing https://github.com/ipython/ipython/issues/1255\u001b[39;00m\n\u001b[1;32m   1551\u001b[0m     \u001b[38;5;66;03m# you can uncomment the next line and remove the pyplot.show() call\u001b[39;00m\n\u001b[1;32m   1552\u001b[0m     \u001b[38;5;66;03m#self.fig.show()\u001b[39;00m\n\u001b[1;32m   1553\u001b[0m     \u001b[38;5;28;01mif\u001b[39;00m _show:\n",
      "File \u001b[0;32m~/anaconda3/lib/python3.11/site-packages/sympy/plotting/plot.py:1546\u001b[0m, in \u001b[0;36mMatplotlibBackend.process_series\u001b[0;34m(self)\u001b[0m\n\u001b[1;32m   1544\u001b[0m \u001b[38;5;28;01mif\u001b[39;00m \u001b[38;5;28misinstance\u001b[39m(\u001b[38;5;28mself\u001b[39m\u001b[38;5;241m.\u001b[39mparent, PlotGrid):\n\u001b[1;32m   1545\u001b[0m     parent \u001b[38;5;241m=\u001b[39m \u001b[38;5;28mself\u001b[39m\u001b[38;5;241m.\u001b[39mparent\u001b[38;5;241m.\u001b[39margs[i]\n\u001b[0;32m-> 1546\u001b[0m \u001b[38;5;28mself\u001b[39m\u001b[38;5;241m.\u001b[39m_process_series(series, ax, parent)\n",
      "File \u001b[0;32m~/anaconda3/lib/python3.11/site-packages/sympy/plotting/plot.py:1367\u001b[0m, in \u001b[0;36mMatplotlibBackend._process_series\u001b[0;34m(self, series, ax, parent)\u001b[0m\n\u001b[1;32m   1364\u001b[0m \u001b[38;5;28;01mfor\u001b[39;00m s \u001b[38;5;129;01min\u001b[39;00m series:\n\u001b[1;32m   1365\u001b[0m     \u001b[38;5;66;03m# Create the collections\u001b[39;00m\n\u001b[1;32m   1366\u001b[0m     \u001b[38;5;28;01mif\u001b[39;00m s\u001b[38;5;241m.\u001b[39mis_2Dline:\n\u001b[0;32m-> 1367\u001b[0m         x, y \u001b[38;5;241m=\u001b[39m s\u001b[38;5;241m.\u001b[39mget_data()\n\u001b[1;32m   1368\u001b[0m         \u001b[38;5;28;01mif\u001b[39;00m (\u001b[38;5;28misinstance\u001b[39m(s\u001b[38;5;241m.\u001b[39mline_color, (\u001b[38;5;28mint\u001b[39m, \u001b[38;5;28mfloat\u001b[39m)) \u001b[38;5;129;01mor\u001b[39;00m\n\u001b[1;32m   1369\u001b[0m                 \u001b[38;5;28mcallable\u001b[39m(s\u001b[38;5;241m.\u001b[39mline_color)):\n\u001b[1;32m   1370\u001b[0m             segments \u001b[38;5;241m=\u001b[39m \u001b[38;5;28mself\u001b[39m\u001b[38;5;241m.\u001b[39mget_segments(x, y)\n",
      "File \u001b[0;32m~/anaconda3/lib/python3.11/site-packages/sympy/plotting/plot.py:605\u001b[0m, in \u001b[0;36mLine2DBaseSeries.get_data\u001b[0;34m(self)\u001b[0m\n\u001b[1;32m    591\u001b[0m \u001b[38;5;250m\u001b[39m\u001b[38;5;124;03m\"\"\" Return lists of coordinates for plotting the line.\u001b[39;00m\n\u001b[1;32m    592\u001b[0m \n\u001b[1;32m    593\u001b[0m \u001b[38;5;124;03mReturns\u001b[39;00m\n\u001b[0;32m   (...)\u001b[0m\n\u001b[1;32m    602\u001b[0m \u001b[38;5;124;03m        List of z-coordinates in case of Parametric3DLineSeries\u001b[39;00m\n\u001b[1;32m    603\u001b[0m \u001b[38;5;124;03m\"\"\"\u001b[39;00m\n\u001b[1;32m    604\u001b[0m np \u001b[38;5;241m=\u001b[39m import_module(\u001b[38;5;124m'\u001b[39m\u001b[38;5;124mnumpy\u001b[39m\u001b[38;5;124m'\u001b[39m)\n\u001b[0;32m--> 605\u001b[0m points \u001b[38;5;241m=\u001b[39m \u001b[38;5;28mself\u001b[39m\u001b[38;5;241m.\u001b[39mget_points()\n\u001b[1;32m    606\u001b[0m \u001b[38;5;28;01mif\u001b[39;00m \u001b[38;5;28mself\u001b[39m\u001b[38;5;241m.\u001b[39msteps \u001b[38;5;129;01mis\u001b[39;00m \u001b[38;5;28;01mTrue\u001b[39;00m:\n\u001b[1;32m    607\u001b[0m     \u001b[38;5;28;01mif\u001b[39;00m \u001b[38;5;28mlen\u001b[39m(points) \u001b[38;5;241m==\u001b[39m \u001b[38;5;241m2\u001b[39m:\n",
      "File \u001b[0;32m~/anaconda3/lib/python3.11/site-packages/sympy/plotting/plot.py:780\u001b[0m, in \u001b[0;36mLineOver1DRangeSeries.get_points\u001b[0;34m(self)\u001b[0m\n\u001b[1;32m    777\u001b[0m         y_coords\u001b[38;5;241m.\u001b[39mappend(q[\u001b[38;5;241m1\u001b[39m])\n\u001b[1;32m    779\u001b[0m f_start \u001b[38;5;241m=\u001b[39m f(\u001b[38;5;28mself\u001b[39m\u001b[38;5;241m.\u001b[39mstart)\n\u001b[0;32m--> 780\u001b[0m f_end \u001b[38;5;241m=\u001b[39m f(\u001b[38;5;28mself\u001b[39m\u001b[38;5;241m.\u001b[39mend)\n\u001b[1;32m    781\u001b[0m x_coords\u001b[38;5;241m.\u001b[39mappend(\u001b[38;5;28mself\u001b[39m\u001b[38;5;241m.\u001b[39mstart)\n\u001b[1;32m    782\u001b[0m y_coords\u001b[38;5;241m.\u001b[39mappend(f_start)\n",
      "File \u001b[0;32m~/anaconda3/lib/python3.11/site-packages/sympy/plotting/experimental_lambdify.py:188\u001b[0m, in \u001b[0;36mlambdify.__call__\u001b[0;34m(self, args)\u001b[0m\n\u001b[1;32m    186\u001b[0m \u001b[38;5;28;01mif\u001b[39;00m \u001b[38;5;28mself\u001b[39m\u001b[38;5;241m.\u001b[39mlambda_func \u001b[38;5;241m==\u001b[39m \u001b[38;5;28mself\u001b[39m\u001b[38;5;241m.\u001b[39mlambda_func_1:\n\u001b[1;32m    187\u001b[0m     \u001b[38;5;28mself\u001b[39m\u001b[38;5;241m.\u001b[39mlambda_func \u001b[38;5;241m=\u001b[39m \u001b[38;5;28mself\u001b[39m\u001b[38;5;241m.\u001b[39mlambda_func_2\n\u001b[0;32m--> 188\u001b[0m     \u001b[38;5;28;01mreturn\u001b[39;00m \u001b[38;5;28mself\u001b[39m\u001b[38;5;241m.\u001b[39m\u001b[38;5;21m__call__\u001b[39m(args)\n\u001b[1;32m    190\u001b[0m \u001b[38;5;28mself\u001b[39m\u001b[38;5;241m.\u001b[39mfailure \u001b[38;5;241m=\u001b[39m \u001b[38;5;28;01mTrue\u001b[39;00m\n\u001b[1;32m    191\u001b[0m \u001b[38;5;28mself\u001b[39m\u001b[38;5;241m.\u001b[39mlambda_func \u001b[38;5;241m=\u001b[39m \u001b[38;5;28mself\u001b[39m\u001b[38;5;241m.\u001b[39mlambda_func_3\n",
      "File \u001b[0;32m~/anaconda3/lib/python3.11/site-packages/sympy/plotting/experimental_lambdify.py:196\u001b[0m, in \u001b[0;36mlambdify.__call__\u001b[0;34m(self, args)\u001b[0m\n\u001b[1;32m    191\u001b[0m \u001b[38;5;28mself\u001b[39m\u001b[38;5;241m.\u001b[39mlambda_func \u001b[38;5;241m=\u001b[39m \u001b[38;5;28mself\u001b[39m\u001b[38;5;241m.\u001b[39mlambda_func_3\n\u001b[1;32m    192\u001b[0m warnings\u001b[38;5;241m.\u001b[39mwarn(\n\u001b[1;32m    193\u001b[0m     \u001b[38;5;124m'\u001b[39m\u001b[38;5;124mThe evaluation of the expression is problematic. \u001b[39m\u001b[38;5;124m'\u001b[39m\n\u001b[1;32m    194\u001b[0m     \u001b[38;5;124m'\u001b[39m\u001b[38;5;124mWe are trying a failback method that may still work. \u001b[39m\u001b[38;5;124m'\u001b[39m\n\u001b[1;32m    195\u001b[0m     \u001b[38;5;124m'\u001b[39m\u001b[38;5;124mPlease report this as a bug.\u001b[39m\u001b[38;5;124m'\u001b[39m, stacklevel\u001b[38;5;241m=\u001b[39m\u001b[38;5;241m2\u001b[39m)\n\u001b[0;32m--> 196\u001b[0m \u001b[38;5;28;01mreturn\u001b[39;00m \u001b[38;5;28mself\u001b[39m\u001b[38;5;241m.\u001b[39m\u001b[38;5;21m__call__\u001b[39m(args)\n",
      "File \u001b[0;32m~/anaconda3/lib/python3.11/site-packages/sympy/plotting/experimental_lambdify.py:184\u001b[0m, in \u001b[0;36mlambdify.__call__\u001b[0;34m(self, args)\u001b[0m\n\u001b[1;32m    182\u001b[0m \u001b[38;5;28;01mexcept\u001b[39;00m \u001b[38;5;167;01mTypeError\u001b[39;00m \u001b[38;5;28;01mas\u001b[39;00m e:\n\u001b[1;32m    183\u001b[0m     \u001b[38;5;28;01mif\u001b[39;00m \u001b[38;5;28mself\u001b[39m\u001b[38;5;241m.\u001b[39mfailure:\n\u001b[0;32m--> 184\u001b[0m         \u001b[38;5;28;01mraise\u001b[39;00m e\n\u001b[1;32m    186\u001b[0m     \u001b[38;5;28;01mif\u001b[39;00m \u001b[38;5;28mself\u001b[39m\u001b[38;5;241m.\u001b[39mlambda_func \u001b[38;5;241m==\u001b[39m \u001b[38;5;28mself\u001b[39m\u001b[38;5;241m.\u001b[39mlambda_func_1:\n\u001b[1;32m    187\u001b[0m         \u001b[38;5;28mself\u001b[39m\u001b[38;5;241m.\u001b[39mlambda_func \u001b[38;5;241m=\u001b[39m \u001b[38;5;28mself\u001b[39m\u001b[38;5;241m.\u001b[39mlambda_func_2\n",
      "File \u001b[0;32m~/anaconda3/lib/python3.11/site-packages/sympy/plotting/experimental_lambdify.py:176\u001b[0m, in \u001b[0;36mlambdify.__call__\u001b[0;34m(self, args)\u001b[0m\n\u001b[1;32m    173\u001b[0m \u001b[38;5;28;01mdef\u001b[39;00m \u001b[38;5;21m__call__\u001b[39m(\u001b[38;5;28mself\u001b[39m, args):\n\u001b[1;32m    174\u001b[0m     \u001b[38;5;28;01mtry\u001b[39;00m:\n\u001b[1;32m    175\u001b[0m         \u001b[38;5;66;03m#The result can be sympy.Float. Hence wrap it with complex type.\u001b[39;00m\n\u001b[0;32m--> 176\u001b[0m         result \u001b[38;5;241m=\u001b[39m \u001b[38;5;28mcomplex\u001b[39m(\u001b[38;5;28mself\u001b[39m\u001b[38;5;241m.\u001b[39mlambda_func(args))\n\u001b[1;32m    177\u001b[0m         \u001b[38;5;28;01mif\u001b[39;00m \u001b[38;5;28mabs\u001b[39m(result\u001b[38;5;241m.\u001b[39mimag) \u001b[38;5;241m>\u001b[39m \u001b[38;5;241m1e-7\u001b[39m \u001b[38;5;241m*\u001b[39m \u001b[38;5;28mabs\u001b[39m(result):\n\u001b[1;32m    178\u001b[0m             \u001b[38;5;28;01mreturn\u001b[39;00m \u001b[38;5;28;01mNone\u001b[39;00m\n",
      "File \u001b[0;32m~/anaconda3/lib/python3.11/site-packages/sympy/core/expr.py:356\u001b[0m, in \u001b[0;36mExpr.__complex__\u001b[0;34m(self)\u001b[0m\n\u001b[1;32m    354\u001b[0m result \u001b[38;5;241m=\u001b[39m \u001b[38;5;28mself\u001b[39m\u001b[38;5;241m.\u001b[39mevalf()\n\u001b[1;32m    355\u001b[0m re, im \u001b[38;5;241m=\u001b[39m result\u001b[38;5;241m.\u001b[39mas_real_imag()\n\u001b[0;32m--> 356\u001b[0m \u001b[38;5;28;01mreturn\u001b[39;00m \u001b[38;5;28mcomplex\u001b[39m(\u001b[38;5;28mfloat\u001b[39m(re), \u001b[38;5;28mfloat\u001b[39m(im))\n",
      "File \u001b[0;32m~/anaconda3/lib/python3.11/site-packages/sympy/core/expr.py:351\u001b[0m, in \u001b[0;36mExpr.__float__\u001b[0;34m(self)\u001b[0m\n\u001b[1;32m    349\u001b[0m \u001b[38;5;28;01mif\u001b[39;00m result\u001b[38;5;241m.\u001b[39mis_number \u001b[38;5;129;01mand\u001b[39;00m result\u001b[38;5;241m.\u001b[39mas_real_imag()[\u001b[38;5;241m1\u001b[39m]:\n\u001b[1;32m    350\u001b[0m     \u001b[38;5;28;01mraise\u001b[39;00m \u001b[38;5;167;01mTypeError\u001b[39;00m(\u001b[38;5;124m\"\u001b[39m\u001b[38;5;124mCannot convert complex to float\u001b[39m\u001b[38;5;124m\"\u001b[39m)\n\u001b[0;32m--> 351\u001b[0m \u001b[38;5;28;01mraise\u001b[39;00m \u001b[38;5;167;01mTypeError\u001b[39;00m(\u001b[38;5;124m\"\u001b[39m\u001b[38;5;124mCannot convert expression to float\u001b[39m\u001b[38;5;124m\"\u001b[39m)\n",
      "\u001b[0;31mTypeError\u001b[0m: Cannot convert expression to float"
     ]
    },
    {
     "data": {
      "image/png": "[encoded data removed]",
      "text/plain": [
       "<Figure size 640x480 with 1 Axes>"
      ]
     },
     "metadata": {},
     "output_type": "display_data"
    }
   ],
   "source": [
    "plot((sols[1].rhs.subs(k1,ka1).subs(k2,ka2).subs(k_dec,decay), (t,0,100)) ,(sols[0].rhs.subs(k1,ka1).subs(k2,ka2).subs(k_dec,decay), (t,0,100)), (sols[2].rhs.subs(k1,ka1).subs(k2,ka2).subs(k_dec,decay), (t,0,100)) )\n"
   ]
  },
  {
   "cell_type": "code",
   "execution_count": null,
   "id": "3ec6c535-5359-426a-b22c-e9e638d95a3f",
   "metadata": {
    "tags": []
   },
   "outputs": [],
   "source": [
    "solve(Eq(diff(sols[1].rhs, t), 0), t)[0].subs(k1, ka1).subs(k2, ka2).subs(k_dec, decay)"
   ]
  },
  {
   "cell_type": "code",
   "execution_count": null,
   "id": "3be9b6c6-0f48-489d-bcb7-81b3f54fcd03",
   "metadata": {
    "tags": []
   },
   "outputs": [],
   "source": [
    "s1=integrate(sols[1].rhs, (t,t_1,t_2),conds='separate')"
   ]
  },
  {
   "cell_type": "code",
   "execution_count": null,
   "id": "645e645f-dc10-4d21-b535-b6a8540567f5",
   "metadata": {
    "tags": []
   },
   "outputs": [],
   "source": [
    "s1.subs(t_2,10).subs(t_1, 0)"
   ]
  },
  {
   "cell_type": "code",
   "execution_count": null,
   "id": "9ce8fd89-f60d-4c7b-a624-b180fecda6a1",
   "metadata": {
    "tags": []
   },
   "outputs": [],
   "source": [
    "plot(s1.subs(k1, ka1).subs(k2, ka2).subs(k_dec, decay), (j, 0,100))"
   ]
  },
  {
   "cell_type": "code",
   "execution_count": null,
   "id": "6288c3f8-e392-4d4d-b3cd-546d31e6759e",
   "metadata": {
    "tags": []
   },
   "outputs": [],
   "source": [
    "s1.simplify()"
   ]
  },
  {
   "cell_type": "code",
   "execution_count": null,
   "id": "da33aead-ff54-4416-aa77-9d2a12f88bfd",
   "metadata": {},
   "outputs": [],
   "source": []
  },
  {
   "cell_type": "code",
   "execution_count": 10,
   "id": "8b4c4a04-ca36-4c1e-bc8e-860a9387b3d1",
   "metadata": {},
   "outputs": [
    {
     "ename": "TypeError",
     "evalue": "lambdify() missing 2 required positional arguments: 'args' and 'expr'",
     "output_type": "error",
     "traceback": [
      "\u001b[0;31m---------------------------------------------------------------------------\u001b[0m",
      "\u001b[0;31mTypeError\u001b[0m                                 Traceback (most recent call last)",
      "Cell \u001b[0;32mIn[10], line 1\u001b[0m\n\u001b[0;32m----> 1\u001b[0m lambdify()\n",
      "\u001b[0;31mTypeError\u001b[0m: lambdify() missing 2 required positional arguments: 'args' and 'expr'"
     ]
    }
   ],
   "source": [
    "lambdify()"
   ]
  },
  {
   "cell_type": "code",
   "execution_count": 11,
   "id": "27a68d71-eb60-4bea-b07c-5b3e730339db",
   "metadata": {},
   "outputs": [
    {
     "data": {
      "text/plain": [
       "array([  0.,   1.,   2.,   3.,   4.,   5.,   6.,   7.,   8.,   9.,  10.,\n",
       "        11.,  12.,  13.,  14.,  15.,  16.,  17.,  18.,  19.,  20.,  21.,\n",
       "        22.,  23.,  24.,  25.,  26.,  27.,  28.,  29.,  30.,  31.,  32.,\n",
       "        33.,  34.,  35.,  36.,  37.,  38.,  39.,  40.,  41.,  42.,  43.,\n",
       "        44.,  45.,  46.,  47.,  48.,  49.,  50.,  51.,  52.,  53.,  54.,\n",
       "        55.,  56.,  57.,  58.,  59.,  60.,  61.,  62.,  63.,  64.,  65.,\n",
       "        66.,  67.,  68.,  69.,  70.,  71.,  72.,  73.,  74.,  75.,  76.,\n",
       "        77.,  78.,  79.,  80.,  81.,  82.,  83.,  84.,  85.,  86.,  87.,\n",
       "        88.,  89.,  90.,  91.,  92.,  93.,  94.,  95.,  96.,  97.,  98.,\n",
       "        99., 100., 101., 102., 103., 104., 105., 106., 107., 108., 109.,\n",
       "       110., 111., 112., 113., 114., 115., 116., 117., 118., 119., 120.,\n",
       "       121., 122., 123., 124., 125., 126., 127., 128., 129., 130., 131.,\n",
       "       132., 133., 134., 135., 136., 137., 138., 139., 140., 141., 142.,\n",
       "       143., 144., 145., 146., 147., 148., 149., 150., 151., 152., 153.,\n",
       "       154., 155., 156., 157., 158., 159., 160., 161., 162., 163., 164.,\n",
       "       165., 166., 167., 168., 169., 170., 171., 172., 173., 174., 175.,\n",
       "       176., 177., 178., 179., 180., 181., 182., 183., 184., 185., 186.,\n",
       "       187., 188., 189., 190., 191., 192., 193., 194., 195., 196., 197.,\n",
       "       198., 199., 200., 201., 202., 203., 204., 205., 206., 207., 208.,\n",
       "       209., 210., 211., 212., 213., 214., 215., 216., 217., 218., 219.,\n",
       "       220., 221., 222., 223., 224., 225., 226., 227., 228., 229., 230.,\n",
       "       231., 232., 233., 234., 235., 236., 237., 238., 239., 240., 241.,\n",
       "       242., 243., 244., 245., 246., 247., 248., 249., 250., 251., 252.,\n",
       "       253., 254., 255., 256., 257., 258., 259., 260., 261., 262., 263.,\n",
       "       264., 265., 266., 267., 268., 269., 270., 271., 272., 273., 274.,\n",
       "       275., 276., 277., 278., 279., 280., 281., 282., 283., 284., 285.,\n",
       "       286., 287., 288., 289., 290., 291., 292., 293., 294., 295., 296.,\n",
       "       297., 298., 299., 300., 301., 302., 303., 304., 305., 306., 307.,\n",
       "       308., 309., 310., 311., 312., 313., 314., 315., 316., 317., 318.,\n",
       "       319., 320., 321., 322., 323., 324., 325., 326., 327., 328., 329.,\n",
       "       330., 331., 332., 333., 334., 335., 336., 337., 338., 339., 340.,\n",
       "       341., 342., 343., 344., 345., 346., 347., 348., 349., 350., 351.,\n",
       "       352., 353., 354., 355., 356., 357., 358., 359., 360., 361., 362.,\n",
       "       363., 364., 365., 366., 367., 368., 369., 370., 371., 372., 373.,\n",
       "       374., 375., 376., 377., 378., 379., 380., 381., 382., 383., 384.,\n",
       "       385., 386., 387., 388., 389., 390., 391., 392., 393., 394., 395.,\n",
       "       396., 397., 398., 399., 400., 401., 402., 403., 404., 405., 406.,\n",
       "       407., 408., 409., 410., 411., 412., 413., 414., 415., 416., 417.,\n",
       "       418., 419., 420., 421., 422., 423., 424., 425., 426., 427., 428.,\n",
       "       429., 430., 431., 432., 433., 434., 435., 436., 437., 438., 439.,\n",
       "       440., 441., 442., 443., 444., 445., 446., 447., 448., 449., 450.,\n",
       "       451., 452., 453., 454., 455., 456., 457., 458., 459., 460., 461.,\n",
       "       462., 463., 464., 465., 466., 467., 468., 469., 470., 471., 472.,\n",
       "       473., 474., 475., 476., 477., 478., 479., 480., 481., 482., 483.,\n",
       "       484., 485., 486., 487., 488., 489., 490., 491., 492., 493., 494.,\n",
       "       495., 496., 497., 498., 499., 500., 501., 502., 503., 504., 505.,\n",
       "       506., 507., 508., 509., 510., 511., 512., 513., 514., 515., 516.,\n",
       "       517., 518., 519., 520., 521., 522., 523., 524., 525., 526., 527.,\n",
       "       528., 529., 530., 531., 532., 533., 534., 535., 536., 537., 538.,\n",
       "       539., 540., 541., 542., 543., 544., 545., 546., 547., 548., 549.,\n",
       "       550., 551., 552., 553., 554., 555., 556., 557., 558., 559., 560.,\n",
       "       561., 562., 563., 564., 565., 566., 567., 568., 569., 570., 571.,\n",
       "       572., 573., 574., 575., 576., 577., 578., 579., 580., 581., 582.,\n",
       "       583., 584., 585., 586., 587., 588., 589., 590., 591., 592., 593.,\n",
       "       594., 595., 596., 597., 598., 599., 600., 601., 602., 603., 604.,\n",
       "       605., 606., 607., 608., 609., 610., 611., 612., 613., 614., 615.,\n",
       "       616., 617., 618., 619., 620., 621., 622., 623., 624., 625., 626.,\n",
       "       627., 628., 629., 630., 631., 632., 633., 634., 635., 636., 637.,\n",
       "       638., 639., 640., 641., 642., 643., 644., 645., 646., 647., 648.,\n",
       "       649., 650., 651., 652., 653., 654., 655., 656., 657., 658., 659.,\n",
       "       660., 661., 662., 663., 664., 665., 666., 667., 668., 669., 670.,\n",
       "       671., 672., 673., 674., 675., 676., 677., 678., 679., 680., 681.,\n",
       "       682., 683., 684., 685., 686., 687., 688., 689., 690., 691., 692.,\n",
       "       693., 694., 695., 696., 697., 698., 699., 700., 701., 702., 703.,\n",
       "       704., 705., 706., 707., 708., 709., 710., 711., 712., 713., 714.,\n",
       "       715., 716., 717., 718., 719., 720., 721., 722., 723., 724., 725.,\n",
       "       726., 727., 728., 729., 730., 731., 732., 733., 734., 735., 736.,\n",
       "       737., 738., 739., 740., 741., 742., 743., 744., 745., 746., 747.,\n",
       "       748., 749., 750., 751., 752., 753., 754., 755., 756., 757., 758.,\n",
       "       759., 760., 761., 762., 763., 764., 765., 766., 767., 768., 769.,\n",
       "       770., 771., 772., 773., 774., 775., 776., 777., 778., 779., 780.,\n",
       "       781., 782., 783., 784., 785., 786., 787., 788., 789., 790., 791.,\n",
       "       792., 793., 794., 795., 796., 797., 798., 799., 800., 801., 802.,\n",
       "       803., 804., 805., 806., 807., 808., 809., 810., 811., 812., 813.,\n",
       "       814., 815., 816., 817., 818., 819., 820., 821., 822., 823., 824.,\n",
       "       825., 826., 827., 828., 829., 830., 831., 832., 833., 834., 835.,\n",
       "       836., 837., 838., 839., 840., 841., 842., 843., 844., 845., 846.,\n",
       "       847., 848., 849., 850., 851., 852., 853., 854., 855., 856., 857.,\n",
       "       858., 859., 860., 861., 862., 863., 864., 865., 866., 867., 868.,\n",
       "       869., 870., 871., 872., 873., 874., 875., 876., 877., 878., 879.,\n",
       "       880., 881., 882., 883., 884., 885., 886., 887., 888., 889., 890.,\n",
       "       891., 892., 893., 894., 895., 896., 897., 898., 899., 900., 901.,\n",
       "       902., 903., 904., 905., 906., 907., 908., 909., 910., 911., 912.,\n",
       "       913., 914., 915., 916., 917., 918., 919., 920., 921., 922., 923.,\n",
       "       924., 925., 926., 927., 928., 929., 930., 931., 932., 933., 934.,\n",
       "       935., 936., 937., 938., 939., 940., 941., 942., 943., 944., 945.,\n",
       "       946., 947., 948., 949., 950., 951., 952., 953., 954., 955., 956.,\n",
       "       957., 958., 959., 960., 961., 962., 963., 964., 965., 966., 967.,\n",
       "       968., 969., 970., 971., 972., 973., 974., 975., 976., 977., 978.,\n",
       "       979., 980., 981., 982., 983., 984., 985., 986., 987., 988., 989.,\n",
       "       990., 991., 992., 993., 994., 995., 996., 997., 998., 999.])"
      ]
     },
     "execution_count": 11,
     "metadata": {},
     "output_type": "execute_result"
    }
   ],
   "source": [
    "np.arange(0., 1000., 1., dtype=float)"
   ]
  },
  {
   "cell_type": "code",
   "execution_count": 12,
   "id": "a6c329b2-652e-44a0-a482-a980f0c17883",
   "metadata": {},
   "outputs": [
    {
     "data": {
      "text/latex": [
       "$\\displaystyle \\frac{a_{0} k_{1} e^{- t \\left(k_{2} + k_{dec}\\right)}}{k_{1} - k_{2}} - \\frac{a_{0} k_{1} e^{- t \\left(k_{1} + k_{dec}\\right)}}{k_{1} - k_{2}}$"
      ],
      "text/plain": [
       "a0*k_1*exp(-t*(k_2 + k_dec))/(k_1 - k_2) - a0*k_1*exp(-t*(k_1 + k_dec))/(k_1 - k_2)"
      ]
     },
     "execution_count": 12,
     "metadata": {},
     "output_type": "execute_result"
    }
   ],
   "source": [
    "sols[1].rhs"
   ]
  },
  {
   "cell_type": "code",
   "execution_count": 13,
   "id": "450dda5b-da51-4777-97f4-ba4494b050a5",
   "metadata": {},
   "outputs": [],
   "source": [
    "def batemann_decayed(t,a0, k1, k2, k_dec):\n",
    "    import numpy as np\n",
    "    y= (a0*k1*np.exp(-t*(k2+k_dec)))/(k1-k2) - (a0*k1*np.exp(-t*(k1+k_dec)))/(k1-k2)\n",
    "    return y"
   ]
  },
  {
   "cell_type": "code",
   "execution_count": 14,
   "id": "3bb041d2-49da-4f0c-be12-2998507e9e70",
   "metadata": {},
   "outputs": [],
   "source": [
    "a, b, c, t, k1, k2, k_dec, t_1, t_2, a0, b0, idg= symbols('A, B, C, t, k_1, k_2, k_dec t_1 t_2, a0, b0, idg', real=True)\n",
    "\n",
    "a=Function('A')\n",
    "b=Function('B')\n",
    "c=Function('C')\n",
    "\n",
    "\n",
    "eq1=Eq(diff(a(t), t), -k1*a(t))\n",
    "eq2=Eq(diff(b(t), t), k1*a(t)-k2*b(t))\n",
    "eq3=Eq(diff(c(t), t), k2*b(t))"
   ]
  },
  {
   "cell_type": "code",
   "execution_count": 15,
   "id": "7f28a436-0ea2-476a-8a51-f14427f168ce",
   "metadata": {},
   "outputs": [],
   "source": [
    "sols=sympy.solvers.ode.systems.dsolve_system([eq1,eq2,eq3], ics={a(0):1, b(0):0, c(0):0})[0]"
   ]
  },
  {
   "cell_type": "code",
   "execution_count": 49,
   "id": "7dcc710f-bac8-4870-b75a-bc9ad0fce74e",
   "metadata": {},
   "outputs": [
    {
     "data": {
      "text/latex": [
       "$\\displaystyle B{\\left(t \\right)} = \\frac{k_{1} e^{- k_{2} t}}{k_{1} - k_{2}} - \\frac{k_{1} e^{- k_{1} t}}{k_{1} - k_{2}}$"
      ],
      "text/plain": [
       "Eq(B(t), k_1*exp(-k_2*t)/(k_1 - k_2) - k_1*exp(-k_1*t)/(k_1 - k_2))"
      ]
     },
     "execution_count": 49,
     "metadata": {},
     "output_type": "execute_result"
    }
   ],
   "source": [
    "sols[1].simplify()"
   ]
  },
  {
   "cell_type": "code",
   "execution_count": 50,
   "id": "750f021e-f4f0-40c7-84f1-20134ea19511",
   "metadata": {},
   "outputs": [],
   "source": [
    "t_max=solve(Eq(diff(sols[1].rhs, t), 0), t)[0]"
   ]
  },
  {
   "cell_type": "code",
   "execution_count": 51,
   "id": "0f2a3925-16b5-4e0c-8406-a73268e7636e",
   "metadata": {},
   "outputs": [],
   "source": [
    "b_max=sols[1].rhs.subs(t, t_max).simplify()"
   ]
  },
  {
   "cell_type": "code",
   "execution_count": 52,
   "id": "3c8ad0f1-ffd2-4e26-abf6-3df96639d512",
   "metadata": {},
   "outputs": [
    {
     "data": {
      "text/plain": [
       "6.325231732852897"
      ]
     },
     "execution_count": 52,
     "metadata": {},
     "output_type": "execute_result"
    }
   ],
   "source": [
    "j=(sols[1].rhs/b_max).simplify()*idg*exp(-t*k_dec)\n",
    "\n",
    "f=lambdify([t, k1, k2, k_dec, idg],j )\n",
    "f(0.01, 2, 3,4, 100)"
   ]
  },
  {
   "cell_type": "code",
   "execution_count": 26,
   "id": "d93509a5-dc8f-4fd5-8521-7244161626cb",
   "metadata": {},
   "outputs": [],
   "source": [
    "import matplotlib.pyplot as plt"
   ]
  },
  {
   "cell_type": "code",
   "execution_count": 54,
   "id": "0cbd6df2-330a-4dc5-8e85-65703c1b7cac",
   "metadata": {},
   "outputs": [],
   "source": [
    "\n",
    "\n",
    "def function_d(t, k_1 , k_2, k_dec, idg):\n",
    "    y=idg*(-np.exp(k_1*t) + np.exp(k_2*t))*np.exp(-k_dec*t)*np.exp(-t*(k_1 + k_2))/(np.exp(k_1*np.log(k_2/k_1)/(k_1 - k_2)) - np.exp(k_2*np.log(k_2/k_1)/(k_1 - k_2)))\n",
    "    return y"
   ]
  },
  {
   "cell_type": "code",
   "execution_count": 55,
   "id": "72d66b30-5e18-4ddf-8992-ecb16c6c0086",
   "metadata": {},
   "outputs": [
    {
     "data": {
      "text/plain": [
       "[<matplotlib.lines.Line2D at 0x192835490>]"
      ]
     },
     "execution_count": 55,
     "metadata": {},
     "output_type": "execute_result"
    },
    {
     "data": {
      "image/png": "[encoded data removed]",
      "text/plain": [
       "<Figure size 640x480 with 1 Axes>"
      ]
     },
     "metadata": {},
     "output_type": "display_data"
    }
   ],
   "source": [
    "x=[]\n",
    "y=[]\n",
    "for i in np.linspace(0, 1000, 1000):\n",
    "    x.append(i)\n",
    "    y.append(function_d(i, 0.1, 0.01, 0.0001, 100))\n",
    "\n",
    "plt.plot(x, y)"
   ]
  },
  {
   "cell_type": "code",
   "execution_count": 56,
   "id": "b50f887d-7a9f-43c3-9bcb-4ffb64acc386",
   "metadata": {},
   "outputs": [
    {
     "data": {
      "text/latex": [
       "$\\displaystyle - \\frac{idg \\left(k_{1} - k_{2}\\right) \\left(\\frac{k_{1} e^{- k_{2} t}}{k_{1} - k_{2}} - \\frac{k_{1} e^{- k_{1} t}}{k_{1} - k_{2}}\\right) e^{- k_{dec} t}}{\\log{\\left(\\frac{k_{2}}{k_{1}} \\right)}}$"
      ],
      "text/plain": [
       "-idg*(k_1 - k_2)*(k_1*exp(-k_2*t)/(k_1 - k_2) - k_1*exp(-k_1*t)/(k_1 - k_2))*exp(-k_dec*t)/log(k_2/k_1)"
      ]
     },
     "execution_count": 56,
     "metadata": {},
     "output_type": "execute_result"
    }
   ],
   "source": [
    "s=sols[1].rhs/solve(Eq(diff(sols[1].rhs,t), 0), t)[0].simplify()*idg*exp(-t*k_dec).expand()\n",
    "s"
   ]
  },
  {
   "cell_type": "code",
   "execution_count": 47,
   "id": "81f07cc7-0919-4490-a126-d611ca8d7b2b",
   "metadata": {},
   "outputs": [
    {
     "data": {
      "text/latex": [
       "$\\displaystyle - \\frac{idg k_{1} \\left(e^{k_{1} t} - e^{k_{2} t}\\right) e^{- t \\left(k_{1} + k_{2} + k_{dec}\\right)}}{\\log{\\left(\\frac{k_{2}}{k_{1}} \\right)}}$"
      ],
      "text/plain": [
       "-idg*k_1*(exp(k_1*t) - exp(k_2*t))*exp(-t*(k_1 + k_2 + k_dec))/log(k_2/k_1)"
      ]
     },
     "execution_count": 47,
     "metadata": {},
     "output_type": "execute_result"
    }
   ],
   "source": [
    "s.simplify() "
   ]
  },
  {
   "cell_type": "code",
   "execution_count": 195,
   "id": "895fc737-ca83-4ea8-bfa8-7deffd53a696",
   "metadata": {},
   "outputs": [],
   "source": [
    "def aaa(t, k1, k2, k_dec, idg):\n",
    "    j=((k2-k1)*( (k1*np.exp(-k2*t))/(k1-k2) - (k1*np.exp(-k1*t))/(k1-k2)  ) * np.exp(-k_dec*t))/(np.log(k2/k1))\n",
    "    return j"
   ]
  },
  {
   "cell_type": "code",
   "execution_count": 196,
   "id": "d9849d93-4855-4490-831f-6170ac195112",
   "metadata": {},
   "outputs": [],
   "source": [
    "idga=1000\n",
    "k1=0.01\n",
    "k2=0.0005\n",
    "k_dec=0.00000001\n",
    "\n",
    "slph=[]\n",
    "saf=[]\n",
    "for i in np.linspace(0,1000,1000):\n",
    "    slph.append(aaa(i, k1, k2, k_dec, idga))\n",
    "    saf.append(i)"
   ]
  },
  {
   "cell_type": "code",
   "execution_count": 197,
   "id": "42121cdd-28eb-4e01-b41d-8eb8052c5146",
   "metadata": {},
   "outputs": [
    {
     "data": {
      "text/plain": [
       "[<matplotlib.lines.Line2D at 0x196aa5fd0>]"
      ]
     },
     "execution_count": 197,
     "metadata": {},
     "output_type": "execute_result"
    },
    {
     "data": {
      "image/png": "[encoded data removed]",
      "text/plain": [
       "<Figure size 640x480 with 1 Axes>"
      ]
     },
     "metadata": {},
     "output_type": "display_data"
    }
   ],
   "source": [
    "plt.plot(saf, slph)"
   ]
  },
  {
   "cell_type": "code",
   "execution_count": 57,
   "id": "fc1c9779-f81e-43f9-8961-cf9f2f359285",
   "metadata": {},
   "outputs": [],
   "source": [
    "def batemann(t,a0, k1, k2):\n",
    "    import numpy as np\n",
    "    y= (a0*k1*np.exp(-t*(k2)))/(k1-k2) - (a0*k1*np.exp(-t*(k1)))/(k1-k2)\n",
    "    return y"
   ]
  },
  {
   "cell_type": "code",
   "execution_count": 73,
   "id": "0bf46c2c-97fa-4d21-a4bd-3df5664991bc",
   "metadata": {},
   "outputs": [],
   "source": [
    "j=[]\n",
    "t=[]\n",
    "for i in np.linspace(0,1000, 50):\n",
    "    j.append(batemann_decayed(i, 1, 0.01, 0.001, 0.001))\n",
    "    t.append(i)"
   ]
  },
  {
   "cell_type": "code",
   "execution_count": 74,
   "id": "3af2e974-b188-40ed-a417-7e52add40178",
   "metadata": {},
   "outputs": [
    {
     "data": {
      "text/plain": [
       "[<matplotlib.lines.Line2D at 0x1932d31d0>]"
      ]
     },
     "execution_count": 74,
     "metadata": {},
     "output_type": "execute_result"
    },
    {
     "data": {
      "image/png": "[encoded data removed]",
      "text/plain": [
       "<Figure size 640x480 with 1 Axes>"
      ]
     },
     "metadata": {},
     "output_type": "display_data"
    }
   ],
   "source": [
    "import matplotlib.pyplot as plt\n",
    "plt.plot(t, j)"
   ]
  },
  {
   "cell_type": "code",
   "execution_count": 81,
   "id": "c0baafce-7b3e-4825-ae01-40b40cef1ba2",
   "metadata": {},
   "outputs": [
    {
     "data": {
      "text/latex": [
       "$\\displaystyle \\frac{d}{d t} B{\\left(t \\right)} = k_{1} A{\\left(t \\right)} - k_{2} B{\\left(t \\right)}$"
      ],
      "text/plain": [
       "Eq(Derivative(B(t), t), k_1*A(t) - k_2*B(t))"
      ]
     },
     "execution_count": 81,
     "metadata": {},
     "output_type": "execute_result"
    }
   ],
   "source": [
    "eq2"
   ]
  },
  {
   "cell_type": "code",
   "execution_count": 82,
   "id": "8b7481c3-c9a3-4953-bbe8-af6d7e0795b9",
   "metadata": {},
   "outputs": [
    {
     "ename": "ValueError",
     "evalue": "too many values to unpack (expected 2)",
     "output_type": "error",
     "traceback": [
      "\u001b[0;31m---------------------------------------------------------------------------\u001b[0m",
      "\u001b[0;31mValueError\u001b[0m                                Traceback (most recent call last)",
      "Cell \u001b[0;32mIn[82], line 1\u001b[0m\n\u001b[0;32m----> 1\u001b[0m diff(sols[\u001b[38;5;241m1\u001b[39m], t)\n",
      "File \u001b[0;32m~/anaconda3/lib/python3.11/site-packages/sympy/core/function.py:2492\u001b[0m, in \u001b[0;36mdiff\u001b[0;34m(f, *symbols, **kwargs)\u001b[0m\n\u001b[1;32m   2490\u001b[0m     \u001b[38;5;28;01mreturn\u001b[39;00m f\u001b[38;5;241m.\u001b[39mdiff(\u001b[38;5;241m*\u001b[39msymbols, \u001b[38;5;241m*\u001b[39m\u001b[38;5;241m*\u001b[39mkwargs)\n\u001b[1;32m   2491\u001b[0m kwargs\u001b[38;5;241m.\u001b[39msetdefault(\u001b[38;5;124m'\u001b[39m\u001b[38;5;124mevaluate\u001b[39m\u001b[38;5;124m'\u001b[39m, \u001b[38;5;28;01mTrue\u001b[39;00m)\n\u001b[0;32m-> 2492\u001b[0m \u001b[38;5;28;01mreturn\u001b[39;00m _derivative_dispatch(f, \u001b[38;5;241m*\u001b[39msymbols, \u001b[38;5;241m*\u001b[39m\u001b[38;5;241m*\u001b[39mkwargs)\n",
      "File \u001b[0;32m~/anaconda3/lib/python3.11/site-packages/sympy/core/function.py:1914\u001b[0m, in \u001b[0;36m_derivative_dispatch\u001b[0;34m(expr, *variables, **kwargs)\u001b[0m\n\u001b[1;32m   1912\u001b[0m     \u001b[38;5;28;01mfrom\u001b[39;00m \u001b[38;5;21;01msympy\u001b[39;00m\u001b[38;5;21;01m.\u001b[39;00m\u001b[38;5;21;01mtensor\u001b[39;00m\u001b[38;5;21;01m.\u001b[39;00m\u001b[38;5;21;01marray\u001b[39;00m\u001b[38;5;21;01m.\u001b[39;00m\u001b[38;5;21;01marray_derivatives\u001b[39;00m \u001b[38;5;28;01mimport\u001b[39;00m ArrayDerivative\n\u001b[1;32m   1913\u001b[0m     \u001b[38;5;28;01mreturn\u001b[39;00m ArrayDerivative(expr, \u001b[38;5;241m*\u001b[39mvariables, \u001b[38;5;241m*\u001b[39m\u001b[38;5;241m*\u001b[39mkwargs)\n\u001b[0;32m-> 1914\u001b[0m \u001b[38;5;28;01mreturn\u001b[39;00m Derivative(expr, \u001b[38;5;241m*\u001b[39mvariables, \u001b[38;5;241m*\u001b[39m\u001b[38;5;241m*\u001b[39mkwargs)\n",
      "File \u001b[0;32m~/anaconda3/lib/python3.11/site-packages/sympy/core/function.py:1292\u001b[0m, in \u001b[0;36mDerivative.__new__\u001b[0;34m(cls, expr, *variables, **kwargs)\u001b[0m\n\u001b[1;32m   1290\u001b[0m         v \u001b[38;5;241m=\u001b[39m Array(v)\n\u001b[1;32m   1291\u001b[0m \u001b[38;5;28;01melse\u001b[39;00m:\n\u001b[0;32m-> 1292\u001b[0m     v, count \u001b[38;5;241m=\u001b[39m v\n\u001b[1;32m   1293\u001b[0m \u001b[38;5;28;01mif\u001b[39;00m count \u001b[38;5;241m==\u001b[39m \u001b[38;5;241m0\u001b[39m:\n\u001b[1;32m   1294\u001b[0m     \u001b[38;5;28;01mcontinue\u001b[39;00m\n",
      "\u001b[0;31mValueError\u001b[0m: too many values to unpack (expected 2)"
     ]
    }
   ],
   "source": [
    "diff(sols[1], t)"
   ]
  },
  {
   "cell_type": "code",
   "execution_count": 83,
   "id": "e840a8c4-d742-476a-967e-80a0b15a8172",
   "metadata": {},
   "outputs": [
    {
     "ename": "SyntaxError",
     "evalue": "unmatched ')' (4211637159.py, line 1)",
     "output_type": "error",
     "traceback": [
      "\u001b[0;36m  Cell \u001b[0;32mIn[83], line 1\u001b[0;36m\u001b[0m\n\u001b[0;31m    Eq(diff(sols[1].rhs, t), 0), t)\u001b[0m\n\u001b[0m                                  ^\u001b[0m\n\u001b[0;31mSyntaxError\u001b[0m\u001b[0;31m:\u001b[0m unmatched ')'\n"
     ]
    }
   ],
   "source": [
    "Eq(diff(sols[1].rhs, t), 0), t)"
   ]
  },
  {
   "cell_type": "code",
   "execution_count": 57,
   "id": "bd4453f7-a122-4d25-9872-70d2feb7cf5b",
   "metadata": {},
   "outputs": [
    {
     "ename": "NameError",
     "evalue": "name 'df' is not defined",
     "output_type": "error",
     "traceback": [
      "\u001b[0;31m---------------------------------------------------------------------------\u001b[0m",
      "\u001b[0;31mNameError\u001b[0m                                 Traceback (most recent call last)",
      "Cell \u001b[0;32mIn[57], line 1\u001b[0m\n\u001b[0;32m----> 1\u001b[0m df\n",
      "\u001b[0;31mNameError\u001b[0m: name 'df' is not defined"
     ]
    }
   ],
   "source": [
    "df"
   ]
  },
  {
   "cell_type": "code",
   "execution_count": null,
   "id": "bb1293a0-391d-4273-bfe6-de22e9ffdc3e",
   "metadata": {},
   "outputs": [],
   "source": [
    "np.trapz()"
   ]
  }
 ],
 "metadata": {
  "kernelspec": {
   "display_name": "Python 3 (ipykernel)",
   "language": "python",
   "name": "python3"
  },
  "language_info": {
   "codemirror_mode": {
    "name": "ipython",
    "version": 3
   },
   "file_extension": ".py",
   "mimetype": "text/x-python",
   "name": "python",
   "nbconvert_exporter": "python",
   "pygments_lexer": "ipython3",
   "version": "3.11.5"
  }
 },
 "nbformat": 4,
 "nbformat_minor": 5
}
